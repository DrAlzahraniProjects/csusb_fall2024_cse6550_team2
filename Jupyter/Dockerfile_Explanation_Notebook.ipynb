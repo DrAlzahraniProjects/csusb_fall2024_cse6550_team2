{
 "cells": [
  {
   "cell_type": "markdown",
   "id": "193d3a77",
   "metadata": {},
   "source": [
    "# Dockerfile Breakdown and Documentation\n",
    "\n",
    "Generated on 2024-10-29\n",
    "\n",
    "This notebook provides a detailed explanation of each section of the Dockerfile, including commands, conditions, and chained logic to help understand each line of code."
   ]
  },
  {
   "cell_type": "markdown",
   "id": "9d96d889",
   "metadata": {},
   "source": [
    "## **Section 1: Base Image & Environment Setup**\n",
    "\n",
    "This section sets up the base image, environment variables, and working directory.\n",
    "\n",
    "Each line is configured to ensure efficient operation, reduced image size, and effective logging during container execution.\n",
    "\n",
    "* `FROM python:3.11-slim`: Uses lightweight Python base image.\n",
    "\n",
    "* `ENV DEBIAN_FRONTEND=noninteractive`: Prevents interactive prompts during installations.\n",
    "\n",
    "* `ENV PYTHONUNBUFFERED=1`: Ensures instant log display.\n",
    "\n",
    "* `ENV PYTHONDONTWRITEBYTECODE=1`: Saves space by not generating .pyc files.\n",
    "\n",
    "* `WORKDIR /app`: Sets working directory for all project files."
   ]
  },
  {
   "cell_type": "code",
   "execution_count": null,
   "id": "c1530df7",
   "metadata": {},
   "outputs": [],
   "source": [
    "\n",
    "# Use Python 3.11 slim as the base image to keep the container lightweight.\n",
    "# Slim variants remove unnecessary tools, reducing image size.\n",
    "FROM python:3.11-slim\n",
    "\n",
    "# Set the environment variable to avoid interactive prompts during installations.\n",
    "ENV DEBIAN_FRONTEND=noninteractive\n",
    "\n",
    "# Disable Python’s output buffering to ensure that logs are displayed instantly.\n",
    "ENV PYTHONUNBUFFERED=1\n",
    "\n",
    "# Prevent Python from generating .pyc files to save space.\n",
    "ENV PYTHONDONTWRITEBYTECODE=1\n",
    "\n",
    "# Set the working directory to /app.\n",
    "WORKDIR /app\n"
   ]
  },
  {
   "cell_type": "markdown",
   "id": "0eeca3f9",
   "metadata": {},
   "source": [
    "## **Section 2: System Packages Installation**\n",
    "\n",
    "In this section, necessary system packages are installed using `apt-get`. These packages support essential operations within the container.\n",
    "\n",
    "Commands are chained with `&&` to ensure each command runs successfully before moving to the next, and the apt cache is cleared to reduce image size.\n",
    "\n",
    "* `apt-get update && apt-get install -y`: Updates package list and installs necessary packages.\n",
    "\n",
    "* `wget`, `bzip2`, `ca-certificates`, `build-essential`, `cmake`: Tools for downloading, compression, HTTPS, and building software.\n",
    "\n",
    "* `rm -rf /var/lib/apt/lists/`: Cleans up the apt cache to reduce image size."
   ]
  },
  {
   "cell_type": "code",
   "execution_count": null,
   "id": "75d8fb59",
   "metadata": {},
   "outputs": [],
   "source": [
    "\n",
    "# Update the package list and install essential packages for building and running software.\n",
    "RUN apt-get update && apt-get install -y \\\n",
    "    wget \\\n",
    "    bzip2 \\\n",
    "    ca-certificates \\\n",
    "    build-essential \\\n",
    "    cmake \\\n",
    "    && rm -rf /var/lib/apt/lists/*\n",
    "\n"
   ]
  },
  {
   "cell_type": "markdown",
   "id": "79277b44",
   "metadata": {},
   "source": [
    "## **Section 3: Mambaforge Installation (Miniconda Alternative)**\n",
    "\n",
    "This block downloads and installs the Mambaforge installer based on the architecture of the system (either x86_64 or ARM). Using a conditional `if-else` structure, the script fetches the appropriate installer and performs cleanup after installation.\n",
    "\n",
    "* `arch=$(uname -m)`: Detects system architecture.\n",
    "\n",
    "* `if [ \"${arch}\" = \"x86_64\" ] ... elif [ \"${arch}\" = \"aarch64\" ]`: Downloads appropriate Miniforge installer based on architecture.\n",
    "\n",
    "* `bash miniforge.sh -b -p /opt/miniforge`: Installs Miniforge.\n",
    "\n",
    "* `rm miniforge.sh`: Deletes the installer to free up space."
   ]
  },
  {
   "cell_type": "code",
   "execution_count": null,
   "id": "355f41e1",
   "metadata": {},
   "outputs": [],
   "source": [
    "\n",
    "# Detect system architecture and install appropriate Miniforge version.\n",
    "RUN arch=$(uname -m) && \\\n",
    "    if [ \"${arch}\" = \"x86_64\" ]; then \\\n",
    "        wget -q \"https://github.com/conda-forge/miniforge/releases/latest/download/Miniforge3-Linux-x86_64.sh\" -O miniforge.sh; \\\n",
    "    elif [ \"${arch}\" = \"aarch64\" ]; then \\\n",
    "        wget -q \"https://github.com/conda-forge/miniforge/releases/latest/download/Miniforge3-Linux-aarch64.sh\" -O miniforge.sh; \\\n",
    "    else \\\n",
    "        echo \"Unsupported architecture: ${arch}\"; \\\n",
    "        exit 1; \\\n",
    "    fi && \\\n",
    "    bash miniforge.sh -b -p /opt/miniforge && \\\n",
    "    rm miniforge.sh\n"
   ]
  },
  {
   "cell_type": "markdown",
   "id": "d88bb1f0",
   "metadata": {},
   "source": [
    "## **Section 4: Environment Setup with Mamba**\n",
    "\n",
    "The Mambaforge installation adds `mamba` to the PATH, and an environment named 'team3_env' is created with Python 3.11. The default shell is changed to run commands within this new environment.\n",
    "\n",
    "* `ENV PATH=/opt/miniforge/bin:$PATH`: Adds Miniforge to PATH.\n",
    "\n",
    "* `mamba create -n team3_env python=3.11 -y`: Creates a new conda environment with Python 3.11.\n",
    "\n",
    "* `SHELL [\"mamba\", \"run\", \"-n\", \"team3_env\", \"/bin/bash\", \"-c\"]`: Runs subsequent commands in the new environment."
   ]
  },
  {
   "cell_type": "code",
   "execution_count": null,
   "id": "3002c230",
   "metadata": {},
   "outputs": [],
   "source": [
    "\n",
    "# Add Mambaforge to PATH and create new environment.\n",
    "ENV PATH=/opt/miniforge/bin:$PATH\n",
    "RUN mamba create -n team3_env python=3.11 -y\n",
    "SHELL [\"mamba\", \"run\", \"-n\", \"team3_env\", \"/bin/bash\", \"-c\"]\n"
   ]
  },
  {
   "cell_type": "markdown",
   "id": "62e483e8",
   "metadata": {},
   "source": [
    "## **Section 5: Install Project Dependencies**\n",
    "\n",
    "The project's dependencies are specified in `requirements.txt` and additional packages are installed using `pip` for libraries not included in the requirements file. This block also cleans up package caches after installation to save space.\n",
    "\n",
    "* `COPY requirements.txt /app/requirements.txt`: Copies requirements file to the container.\n",
    "\n",
    "* `mamba install --yes --file requirements.txt`: Installs Python packages.\n",
    "\n",
    "* `mamba clean --all -f -y`: Cleans caches and temporary files.\n",
    "\n",
    "* `pip install rank_bm25 streamlit-pdf-viewer`: Installs additional libraries not in requirements.txt."
   ]
  },
  {
   "cell_type": "code",
   "execution_count": null,
   "id": "b723fac2",
   "metadata": {},
   "outputs": [],
   "source": [
    "\n",
    "# Copy requirements.txt and install dependencies.\n",
    "COPY requirements.txt /app/requirements.txt\n",
    "RUN mamba install --yes --file requirements.txt && mamba clean --all -f -y\n",
    "RUN pip install rank_bm25 streamlit-pdf-viewer\n",
    "\n"
   ]
  },
  {
   "cell_type": "markdown",
   "id": "ff335ee5",
   "metadata": {},
   "source": [
    "## **Section 6: Copy Application Files and Expose Ports**\n",
    "\n",
    "The entire app directory is copied to `/app` inside the container, and necessary ports are exposed to allow external access for Streamlit and Jupyter Notebook.\n",
    "\n",
    "* `COPY . /app`: Copies all project files to the container.\n",
    "\n",
    "* `EXPOSE 5003`: Exposes port for Streamlit.\n",
    "\n",
    "* `EXPOSE 6003`: Exposes port for Jupyter Notebook."
   ]
  },
  {
   "cell_type": "code",
   "execution_count": null,
   "id": "9ea3ad18",
   "metadata": {},
   "outputs": [],
   "source": [
    "\n",
    "# Copy files and expose necessary ports.\n",
    "COPY . /app\n",
    "EXPOSE 5003\n",
    "EXPOSE 6003\n",
    "\n"
   ]
  },
  {
   "cell_type": "markdown",
   "id": "00b2cbbe",
   "metadata": {},
   "source": [
    "## **Section 7: Update PATH for Conda Environment**\n",
    "\n",
    "By adding the new environment's binary path to the PATH variable, any command executed will use the dependencies and tools installed in 'team3_env' by default.\n",
    "\n",
    "* `ENV PATH=/opt/miniforge/envs/team3_env/bin:$PATH`: Updates PATH to include the conda environment."
   ]
  },
  {
   "cell_type": "code",
   "execution_count": null,
   "id": "3e07d15e",
   "metadata": {},
   "outputs": [],
   "source": [
    "\n",
    "# Add team3_env environment’s bin directory to PATH.\n",
    "ENV PATH=/opt/miniforge/envs/team3_env/bin:$PATH\n",
    "\n"
   ]
  },
  {
   "cell_type": "markdown",
   "id": "cc18fc52",
   "metadata": {},
   "source": [
    "## **Section 8: Define Entry Point and Default Command**\n",
    "\n",
    "Sets the entry point to Python, allowing scripts to run with `python` by default. The `CMD` instruction tells the container to run `app.py` if no other command is specified at runtime.\n",
    "\n",
    "* `ENTRYPOINT [\"python\"]`: Sets Python as the default entry point.\n",
    "\n",
    "* `CMD [\"app.py\"]`: Sets the default command to execute app.py when the container starts."
   ]
  },
  {
   "cell_type": "code",
   "execution_count": null,
   "id": "4fbff7bc",
   "metadata": {},
   "outputs": [],
   "source": [
    "\n",
    "# Set default entry point and command.\n",
    "ENTRYPOINT [\"python\"]\n",
    "CMD [\"app.py\"]\n",
    "\n"
   ]
  }
 ],
 "metadata": {
  "language_info": {
   "name": "python"
  }
 },
 "nbformat": 4,
 "nbformat_minor": 5
}
