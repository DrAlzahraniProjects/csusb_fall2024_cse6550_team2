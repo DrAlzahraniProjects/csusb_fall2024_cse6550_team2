{
 "cells": [
  {
   "cell_type": "markdown",
   "id": "022fd777",
   "metadata": {},
   "source": [
    "\n",
    "# Chat Interface Styling with Custom CSS\n",
    "\n",
    "This notebook demonstrates how to apply custom CSS to create a chat-like interface with distinct styling for user and assistant messages. We will define CSS styles, display sample messages, and provide explanations for each style rule.\n"
   ]
  },
  {
   "cell_type": "markdown",
   "metadata": {},
   "source": [
    "\n",
    "\n",
    "### Section 1: Styling for Vertical Block with Fixed Header\n",
    "\n",
    "This section targets the vertical block containing a fixed header within the Streamlit layout. It ensures that the text is center-aligned and that the block remains visible during scrolling.\n",
    "\n",
    "- **`div[data-testid=\"stVerticalBlock\"] div:has(div.fixed-header)`**: This selector targets a specific `div` element that acts as a vertical block containing a fixed header, ensuring styles apply only to the intended element.\n",
    "- **`text-align: center;`**: Centers the text within the selected block.\n",
    "- **`position: sticky;`**: Makes the block sticky, so it remains visible as the user scrolls down the page.\n",
    "- **`top: 2.875rem;`**: Positions the sticky block 2.875 rems from the top of the viewport.\n",
    "- **`z-index: 999;`**: Sets a high stacking order to ensure the block is displayed above other overlapping content."
   ]
  },
  {
   "cell_type": "code",
   "execution_count": 1,
   "metadata": {},
   "outputs": [
    {
     "ename": "SyntaxError",
     "evalue": "invalid decimal literal (3770448846.py, line 5)",
     "output_type": "error",
     "traceback": [
      "\u001b[1;36m  Cell \u001b[1;32mIn[1], line 5\u001b[1;36m\u001b[0m\n\u001b[1;33m    top: 2.875rem;       /* Offset the block from the top of the viewport. */\u001b[0m\n\u001b[1;37m             ^\u001b[0m\n\u001b[1;31mSyntaxError\u001b[0m\u001b[1;31m:\u001b[0m invalid decimal literal\n"
     ]
    }
   ],
   "source": [
    "/* Targeting a vertical block that contains a fixed header within the Streamlit layout. */\n",
    "div[data-testid=\"stVerticalBlock\"] div:has(div.fixed-header) {\n",
    "    text-align: center;  /* Center-align the text within this block. */\n",
    "    position: sticky;    /* Keep this block fixed during scrolling. */\n",
    "    top: 2.875rem;       /* Offset the block from the top of the viewport. */\n",
    "    z-index: 999;        /* Ensure this block appears above other elements. */\n",
    "}"
   ]
  },
  {
   "cell_type": "markdown",
   "metadata": {},
   "source": [
    "## **Section 2: Chat Title Styling**\n",
    "\n",
    "Here, styles are defined for the chat title section. This section enhances visibility and design, ensuring that the chat title is prominent, centered, and consistently aligned with other sticky elements\n",
    "\n",
    "- **`div[data-testid=\"stVerticalBlock\"] div:has(div.fixed-header)`**: This selector targets a specific `div` element that acts as a vertical block containing a fixed header, ensuring styles apply only to the intended element.\n",
    "- **`text-align: center;`**: Centers the text within the selected block.\n",
    "- **`position: sticky;`**: Makes the block sticky, so it remains visible as the user scrolls down the page.\n",
    "- **`top: 2.875rem;`**: Positions the sticky block 2.875 rems from the top of the viewport.\n",
    "- **`z-index: 999;`**: Sets a high stacking order to ensure the block is displayed above other overlapping content.\n",
    "\n"
   ]
  },
  {
   "cell_type": "code",
   "execution_count": null,
   "metadata": {},
   "outputs": [
    {
     "ename": "SyntaxError",
     "evalue": "invalid decimal literal (3251831196.py, line 2)",
     "output_type": "error",
     "traceback": [
      "\u001b[1;36m  Cell \u001b[1;32mIn[6], line 2\u001b[1;36m\u001b[0m\n",
      "\u001b[1;33m    font-size: 50px;                     /* Set the font size to 50 pixels for prominence. */\u001b[0m\n",
      "\u001b[1;37m                ^\u001b[0m\n",
      "\u001b[1;31mSyntaxError\u001b[0m\u001b[1;31m:\u001b[0m invalid decimal literal\n"
     ]
    }
   ],
   "source": [
    "/* Styles for the chat title section, enhancing visibility and design. */\n",
    ".chat-title {\n",
    "    font-size: 50px;                     /* Set the font size to 50 pixels for prominence. */\n",
    "    font-weight: bold;                   /* Make the font bold for emphasis. */\n",
    "    background-color: #ffffff;           /* Set the background color to white for clarity. */\n",
    "    z-index: 999;                        /* Keep it above other elements to prevent overlapping. */\n",
    "    text-align: center;                  /* Center-align the title text. */\n",
    "    position: sticky;                    /* Make the title sticky so it remains visible on scroll. */\n",
    "    top: 2.875rem;                       /* Offset from the top for consistent alignment with other sticky elements. */\n",
    "}"
   ]
  },
  {
   "cell_type": "markdown",
   "metadata": {},
   "source": [
    "## **Section 3: User Message Styling**\n",
    "\n",
    "This section provides styles for user messages, making them visually distinct and easy to read. It ensures that user messages are aligned to the right with a light gray background, enhancing clarity and aesthetics.\n",
    "\n",
    "- **`.user-message`**: This class is applied to messages sent by the user.\n",
    "- **`text-align: right;`**: Aligns the user's messages to the right side of the chat area.\n",
    "- **`background-color: #f1f1f1;`**: Sets a light gray background to differentiate user messages from assistant messages.\n",
    "- **`color: black;`**: Ensures text is readable against the background.\n",
    "- **`padding: 10px;`**: Provides spacing within the message bubble for better aesthetics.\n",
    "- **`border-radius: 10px;`**: Gives the message bubble rounded corners for a modern look.\n",
    "- **`margin-bottom: 10px;`**: Adds space between messages for clarity.\n",
    "- **`max-width: 70%;`**: Limits the message width, ensuring it doesn’t take up the entire screen.\n",
    "- **`display: inline-block;`**: Allows the message bubble to respect the defined width and align correctly.\n",
    "- **`float: right;`**: Positions the message on the right side of the chat area.\n"
   ]
  },
  {
   "cell_type": "code",
   "execution_count": null,
   "metadata": {},
   "outputs": [],
   "source": [
    "/* Styles for user messages, ensuring they are visually distinct and easy to read. */\n",
    ".user-message {\n",
    "    text-align: right;                    /* Align the user's messages to the right side. */\n",
    "    background-color: #f1f1f1;           /* Light gray background for user messages for distinction. */\n",
    "    color: black;                         /* Set the text color to black for readability. */\n",
    "    padding: 10px;                       /* Add padding for spacing within the message bubble. */\n",
    "    border-radius: 10px;                 /* Round the corners of the message bubble for a softer look. */\n",
    "    margin-bottom: 10px;                 /* Add space below each message bubble. */\n",
    "    max-width: 70%;                       /* Limit the message width to 70% of the container for better layout. */\n",
    "    display: inline-block;                /* Display as inline-block to respect width and align properly. */\n",
    "    float: right;                        /* Float the message to the right for a natural chat layout. */\n",
    "}"
   ]
  },
  {
   "cell_type": "markdown",
   "metadata": {},
   "source": [
    "## **Section 4: Assistant Message Styling**\n",
    "\n",
    "Styles for assistant messages are defined in this section. The purpose is to create a distinct appearance separate from user messages, ensuring that they are left-aligned and consistently styled for a cohesive chat experience.\n",
    "\n",
    "- **`.assistant-message`**: This class is applied to messages from the assistant.\n",
    "- **`text-align: left;`**: Aligns the assistant's messages to the left side of the chat area.\n",
    "- **`padding: 10px;`**: Provides spacing within the message bubble for improved aesthetics.\n",
    "- **`border-radius: 10px;`**: Gives the message bubble rounded corners for a polished look.\n",
    "- **`margin-bottom: 10px;`**: Adds space between assistant messages and other elements.\n",
    "- **`width: 70%;`**: Sets the message bubble width to 70% for a balanced layout.\n",
    "- **`float: left;`**: Positions the message on the left side of the chat area.\n",
    "- **`clear: both;`**: Ensures that the message is correctly positioned below any floating elements to avoid overlap.\n",
    "\n"
   ]
  },
  {
   "cell_type": "code",
   "execution_count": null,
   "metadata": {},
   "outputs": [],
   "source": [
    "/* Styles for assistant messages, creating a distinct appearance separate from user messages. */\n",
    ".assistant-message {\n",
    "    text-align: left;                     /* Align the assistant's messages to the left side. */\n",
    "    padding: 10px;                        /* Add padding for spacing within the message bubble. */\n",
    "    border-radius: 10px;                  /* Round the corners of the message bubble for a cohesive look. */\n",
    "    margin-bottom: 10px;                  /* Add space below each message bubble. */\n",
    "    width: 70%;                           /* Set the width of the message bubble to 70% for consistent layout. */\n",
    "    float: left;                         /* Float the message to the left for a natural chat layout. */\n",
    "    clear: both;                         /* Clear floats to avoid layout issues with surrounding elements. */\n",
    "}"
   ]
  },
  {
   "cell_type": "code",
   "execution_count": null,
   "id": "353a669f",
   "metadata": {
    "tags": [
     "html"
    ]
   },
   "outputs": [],
   "source": [
    "\n",
    "<div class=\"chat-title\">Chat Interface</div>\n",
    "\n",
    "<div class=\"user-message\">Hello, how can I assist you today?</div>\n",
    "<div class=\"assistant-message\">I am here to help you with any questions you may have.</div>\n"
   ]
  },
  {
   "cell_type": "markdown",
   "id": "b22eed4e",
   "metadata": {},
   "source": [
    "\n",
    "## CSS Explanation\n",
    "\n",
    "1. **Sticky Header**: \n",
    "   - The `div[data-testid=\"stVerticalBlock\"] div:has(div.fixed-header)` selector makes the header sticky with a high z-index to keep it on top when scrolling.\n",
    "\n",
    "2. **Chat Title**:\n",
    "   - The `.chat-title` class creates a centered title bar with a large font size and sticky positioning.\n",
    "\n",
    "3. **User Message Styling**:\n",
    "   - The `.user-message` class styles messages from the user. It aligns text to the right, adds a light background, and ensures the message box is aligned to the right.\n",
    "\n",
    "4. **Assistant Message Styling**:\n",
    "   - The `.assistant-message` class styles the assistant's messages. It aligns text to the left with a distinct padding, margin, and float positioning.\n"
   ]
  }
 ],
 "metadata": {
  "kernelspec": {
   "display_name": "Python 3",
   "language": "python",
   "name": "python3"
  },
  "language_info": {
   "codemirror_mode": {
    "name": "ipython",
    "version": 3
   },
   "file_extension": ".py",
   "mimetype": "text/x-python",
   "name": "python",
   "nbconvert_exporter": "python",
   "pygments_lexer": "ipython3",
   "version": "3.11.9"
  }
 },
 "nbformat": 4,
 "nbformat_minor": 5
}
